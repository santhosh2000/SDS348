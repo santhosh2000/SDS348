{
  "nbformat": 4,
  "nbformat_minor": 0,
  "metadata": {
    "kernelspec": {
      "display_name": "Python 3",
      "language": "python",
      "name": "python3"
    },
    "language_info": {
      "codemirror_mode": {
        "name": "ipython",
        "version": 3
      },
      "file_extension": ".py",
      "mimetype": "text/x-python",
      "name": "python",
      "nbconvert_exporter": "python",
      "pygments_lexer": "ipython3",
      "version": "3.6.9"
    },
    "colab": {
      "name": "HW 9.ipynb",
      "provenance": [],
      "collapsed_sections": []
    }
  },
  "cells": [
    {
      "cell_type": "markdown",
      "metadata": {
        "id": "TxaYCB7bMpgZ"
      },
      "source": [
        "# HW 9\n",
        "\n",
        "## SDS348 Spring 2021"
      ]
    },
    {
      "cell_type": "markdown",
      "metadata": {
        "id": "lJ-tzlHeMpgs"
      },
      "source": [
        "##Name: Santhosh Saravanan\n",
        "##EID : sks3648"
      ]
    },
    {
      "cell_type": "markdown",
      "metadata": {
        "id": "L2ww4wpdMpgv"
      },
      "source": [
        "**This homework is due on April 26, 2021 at 8am. Submit a pdf file on Gradescope.**\n",
        "\n",
        "*For all questions, include the Python commands/functions that you used to find your answer. Answers without supporting code will not receive credit. Write full sentences to describe your findings.*"
      ]
    },
    {
      "cell_type": "markdown",
      "metadata": {
        "id": "FeODG_QdMpgx"
      },
      "source": [
        "### Question 1: (14 pts)"
      ]
    },
    {
      "cell_type": "markdown",
      "metadata": {
        "id": "25WgjbD9Mpgy"
      },
      "source": [
        "#### 1.1 (2 pts) The dataset `faithful` contains information about eruptions of the Old Faithful geyser in Yellowstone National Park. Run the code below to download the dataset from GitHub. What type of object is it? Take a peek at the first few rows using `.head()`, looks familiar? "
      ]
    },
    {
      "cell_type": "code",
      "metadata": {
        "id": "GSlPURpnMpg0"
      },
      "source": [
        "# Import package pandas\n",
        "import pandas as pd"
      ],
      "execution_count": 1,
      "outputs": []
    },
    {
      "cell_type": "code",
      "metadata": {
        "id": "m6EIW4W5Mpg3"
      },
      "source": [
        "# Import dataset\n",
        "faithful = pd.read_csv(\"https://raw.githubusercontent.com/laylaguyot/datasets/main//faithful.csv\")"
      ],
      "execution_count": 2,
      "outputs": []
    },
    {
      "cell_type": "code",
      "metadata": {
        "colab": {
          "base_uri": "https://localhost:8080/"
        },
        "id": "m1BEvoWIMpg4",
        "outputId": "17da561b-edac-4816-ee41-5ca51d8b3400"
      },
      "source": [
        "faithful.head()\n",
        "type(faithful)"
      ],
      "execution_count": 4,
      "outputs": [
        {
          "output_type": "execute_result",
          "data": {
            "text/plain": [
              "pandas.core.frame.DataFrame"
            ]
          },
          "metadata": {
            "tags": []
          },
          "execution_count": 4
        }
      ]
    },
    {
      "cell_type": "markdown",
      "metadata": {
        "id": "R8QySNzTMpg6"
      },
      "source": [
        "*This dataset is familiar and it's a pandas DataFrame object.*"
      ]
    },
    {
      "cell_type": "markdown",
      "metadata": {
        "id": "Ggy3sZR9Mpg8"
      },
      "source": [
        "#### 1.2 (2 pts) What are the minimum and maximum values of the variables `eruptions` and `waiting` (both measured in minutes)? You can access individual variables in a dataframe using the `.` operator (e.g., `faithful.eruptions`)."
      ]
    },
    {
      "cell_type": "code",
      "metadata": {
        "colab": {
          "base_uri": "https://localhost:8080/"
        },
        "id": "G19pW66PMpg-",
        "outputId": "ac711633-15a4-4f73-cfa2-8d1466d81837"
      },
      "source": [
        "print(\"The minimum eruption time: \" + str(min(faithful.eruptions)) + \" minutes.\")\n",
        "print(\"The maximum eruption time: \" + str(max(faithful.eruptions)) + \" minutes.\")\n",
        "print(\"The minimum waiting time: \" +  str(min(faithful.waiting)) + \" minutes.\")\n",
        "print(\"The maximum waiting time: \" + str(max(faithful.waiting)) + \" minutes.\")"
      ],
      "execution_count": 9,
      "outputs": [
        {
          "output_type": "stream",
          "text": [
            "The minimum eruption time: 1.6 minutes.\n",
            "The maximum eruption time: 5.1 minutes.\n",
            "The minimum waiting time: 43 minutes.\n",
            "The maximum waiting time: 96 minutes.\n"
          ],
          "name": "stdout"
        }
      ]
    },
    {
      "cell_type": "markdown",
      "metadata": {
        "id": "Icw7u0HsMphB"
      },
      "source": [
        "*Minimum eruption time is 1.6 minutes. Maximum eruption time is 5.1 minutes. Minimum waiting time is 43 minutes. Maximum waiting time is 96 minutes.*"
      ]
    },
    {
      "cell_type": "markdown",
      "metadata": {
        "id": "gYc8M1TyMphC"
      },
      "source": [
        "#### 1.3 (2 pts) Using the package `numpy`, what is the standard deviation of the variable `eruptions`?"
      ]
    },
    {
      "cell_type": "code",
      "metadata": {
        "id": "3biQbDttMphD"
      },
      "source": [
        "# Import package numpy\n",
        "import numpy as np"
      ],
      "execution_count": 19,
      "outputs": []
    },
    {
      "cell_type": "code",
      "metadata": {
        "id": "PbEcKKISddYV"
      },
      "source": [
        ""
      ],
      "execution_count": null,
      "outputs": []
    },
    {
      "cell_type": "code",
      "metadata": {
        "colab": {
          "base_uri": "https://localhost:8080/"
        },
        "id": "03IkhBlfMphE",
        "outputId": "278ee6da-e17a-4a6a-a2a6-dc962e0814d5"
      },
      "source": [
        "np.std(faithful.eruptions)"
      ],
      "execution_count": 12,
      "outputs": [
        {
          "output_type": "execute_result",
          "data": {
            "text/plain": [
              "1.1392712102257678"
            ]
          },
          "metadata": {
            "tags": []
          },
          "execution_count": 12
        }
      ]
    },
    {
      "cell_type": "markdown",
      "metadata": {
        "id": "YI2dh0GTMphE"
      },
      "source": [
        "*The standard deviation of the variable eruptions is 1.13927 minutes.* "
      ]
    },
    {
      "cell_type": "markdown",
      "metadata": {
        "id": "yL6Bqh-8MphF"
      },
      "source": [
        "#### 1.4 (2 pts) Recall how logical indexing of a dataframe works in Python. In the example code below, I ask Python for the number of rows and columns in the dataset where the variable `waiting` takes on values greater than 60. Then I ask for the average of the variable `eruptions` when the variable `waiting` is above 60. What is the mean of the variable `eruptions` when waiting is *less than* 1 hour?"
      ]
    },
    {
      "cell_type": "code",
      "metadata": {
        "colab": {
          "base_uri": "https://localhost:8080/"
        },
        "id": "wOswg1e7MphG",
        "outputId": "30d5ce9c-030d-45ba-8ff6-386cc480e691"
      },
      "source": [
        "# rows and columns\n",
        "faithful[faithful.waiting>60].shape"
      ],
      "execution_count": 13,
      "outputs": [
        {
          "output_type": "execute_result",
          "data": {
            "text/plain": [
              "(189, 3)"
            ]
          },
          "metadata": {
            "tags": []
          },
          "execution_count": 13
        }
      ]
    },
    {
      "cell_type": "code",
      "metadata": {
        "colab": {
          "base_uri": "https://localhost:8080/"
        },
        "id": "gQG4c5YMMphK",
        "outputId": "eeebf92a-3800-4f34-dc05-4b9094856b53"
      },
      "source": [
        "# mean of eruptions for waiting values greater than 60\n",
        "np.mean(faithful[faithful.waiting > 60].eruptions)"
      ],
      "execution_count": 20,
      "outputs": [
        {
          "output_type": "execute_result",
          "data": {
            "text/plain": [
              "4.138587301587303"
            ]
          },
          "metadata": {
            "tags": []
          },
          "execution_count": 20
        }
      ]
    },
    {
      "cell_type": "code",
      "metadata": {
        "colab": {
          "base_uri": "https://localhost:8080/"
        },
        "id": "FeBAsmqBMphM",
        "outputId": "2f7b6d7e-961f-4ab2-d223-7f87ebede4b2"
      },
      "source": [
        "np.mean(faithful[faithful.waiting < 60].eruptions)"
      ],
      "execution_count": 21,
      "outputs": [
        {
          "output_type": "execute_result",
          "data": {
            "text/plain": [
              "1.9982727272727274"
            ]
          },
          "metadata": {
            "tags": []
          },
          "execution_count": 21
        }
      ]
    },
    {
      "cell_type": "markdown",
      "metadata": {
        "id": "e5Ll7VZoMphN"
      },
      "source": [
        "*The mean of the variable eruptions when waiting is less than 1 hour is 1.9983 minutes.*"
      ]
    },
    {
      "cell_type": "markdown",
      "metadata": {
        "id": "AbibAiTIMphO"
      },
      "source": [
        "#### 1.5 (2 pts) What is the standard deviation of the variable `eruptions` when `waiting` is *greater than* the median?"
      ]
    },
    {
      "cell_type": "code",
      "metadata": {
        "colab": {
          "base_uri": "https://localhost:8080/"
        },
        "id": "zn9GSJYrMphP",
        "outputId": "fd92b48a-8bda-41d8-a19e-801930bf6193"
      },
      "source": [
        "np.std(faithful[faithful.waiting > np.median(faithful.waiting)].eruptions)"
      ],
      "execution_count": 22,
      "outputs": [
        {
          "output_type": "execute_result",
          "data": {
            "text/plain": [
              "0.37160308361435546"
            ]
          },
          "metadata": {
            "tags": []
          },
          "execution_count": 22
        }
      ]
    },
    {
      "cell_type": "markdown",
      "metadata": {
        "id": "BUrXmcjxMphP"
      },
      "source": [
        "*The standard deviation of the variable eruption when waiting is greater than the median is 0.3716.* "
      ]
    },
    {
      "cell_type": "markdown",
      "metadata": {
        "id": "-UI-c_hxMphQ"
      },
      "source": [
        "#### 1.6 (4 pts) Both variables are measured in minutes. Create two new variables named `eruptions_h` and `waiting_h` that give each variable in hours rather than minutes and add them to the dataset `faithful`. To help get you started, I have given you code that creates a new variable called `eruptions_minus_one`. Instead, computes the requested transformation. Take a peek at the first few rows using `.head()`. What is the mean `waiting` time in minutes? in hours?"
      ]
    },
    {
      "cell_type": "code",
      "metadata": {
        "colab": {
          "base_uri": "https://localhost:8080/"
        },
        "id": "8k2gO3UXMphS",
        "outputId": "0376c279-0695-4f5e-e8a7-a3aeadaf4e32"
      },
      "source": [
        "faithful['eruptions_h'] = (faithful['eruptions']/60)\n",
        "faithful['waiting_h'] = (faithful['waiting']/60)\n",
        "faithful.head()\n",
        "print(\"The mean waiting time: \" + str(np.mean(faithful.waiting)) + \" minutes.\")\n",
        "print(\"The mean waiting time: \" + str(np.mean(faithful.waiting_h)) + \" hours.\")"
      ],
      "execution_count": 55,
      "outputs": [
        {
          "output_type": "stream",
          "text": [
            "The mean waiting time: 70.8970588235294 minutes.\n",
            "The mean waiting time: 1.1816176470588227 hours.\n"
          ],
          "name": "stdout"
        }
      ]
    },
    {
      "cell_type": "markdown",
      "metadata": {
        "id": "ww21qjk3qihN"
      },
      "source": [
        ""
      ]
    },
    {
      "cell_type": "markdown",
      "metadata": {
        "id": "P7LsMQsQMphT"
      },
      "source": [
        "*The mean waiting time in minutes is 70.89705 minutes. The mean waiting time in hours is 1.18161 hours.* "
      ]
    },
    {
      "cell_type": "markdown",
      "metadata": {
        "id": "QX7OwJDqMphT"
      },
      "source": [
        "### Question 2: (11 pts)"
      ]
    },
    {
      "cell_type": "markdown",
      "metadata": {
        "id": "BYXFqPM6MphU"
      },
      "source": [
        "#### 2.1 (3 pts) Create a list `food` containing the names of your favorite foods. Your list should contain at least 5 different kinds of food. Sort the list so that the names appear in alphabetical order. How many items are in the list?"
      ]
    },
    {
      "cell_type": "code",
      "metadata": {
        "colab": {
          "base_uri": "https://localhost:8080/"
        },
        "id": "NFmvxOQzMphU",
        "outputId": "3f9ea3db-4ec5-413a-d891-d8d8547a93be"
      },
      "source": [
        "food = [\"Chicken Curry\", \"Ramray Wong pasta\", \"Alfredo Pasta \", \"Choccy Chocolate Cake\", \"Classic American CheeseBurger\",  \"Chicken Crispers\", \"Chow Mein\", \"Sweetfire Chicken Breast\", \"Banana Pudding\", \"Bean Rice\", \"Lobster Biscuits\", \"Caesar Salad\"]\n",
        "print(sorted(food))\n",
        "print(len(food))"
      ],
      "execution_count": 59,
      "outputs": [
        {
          "output_type": "stream",
          "text": [
            "['Alfredo Pasta ', 'Banana Pudding', 'Bean Rice', 'Caesar Salad', 'Chicken Crispers', 'Chicken Curry', 'Choccy Chocolate Cake', 'Chow Mein', 'Classic American CheeseBurger', 'Lobster Biscuits', 'Ramray Wong pasta', 'Sweetfire Chicken Breast']\n",
            "12\n"
          ],
          "name": "stdout"
        }
      ]
    },
    {
      "cell_type": "markdown",
      "metadata": {
        "id": "GI9twIhcMphV"
      },
      "source": [
        "*There are 12 items in the list.* "
      ]
    },
    {
      "cell_type": "markdown",
      "metadata": {
        "id": "cpxvWWlCMphV"
      },
      "source": [
        "#### 2.2 (2 pts) Using the function `.sort()`, sort the list in alphabetical order. What is your first favorite food in alphabetical order?"
      ]
    },
    {
      "cell_type": "code",
      "metadata": {
        "colab": {
          "base_uri": "https://localhost:8080/"
        },
        "id": "N452gnKIMphW",
        "outputId": "ff4bda5e-aad8-49f3-a0b4-de690911a3d7"
      },
      "source": [
        "food = sorted(food)\n",
        "print(food[0])"
      ],
      "execution_count": 60,
      "outputs": [
        {
          "output_type": "stream",
          "text": [
            "Alfredo Pasta \n"
          ],
          "name": "stdout"
        }
      ]
    },
    {
      "cell_type": "markdown",
      "metadata": {
        "id": "QO3OE_4PMphX"
      },
      "source": [
        "*My first favorite food in alphabetical order is Alfredo Pasta.* "
      ]
    },
    {
      "cell_type": "markdown",
      "metadata": {
        "id": "OeRl0TbnMphY"
      },
      "source": [
        "#### 2.3 (3 pts) Imagine that you have spent a week eating only your favorite foods. Create a dictionary `food_dict` that contains the names of your favorite foods as `keys` & counts for each time you ate that food as `values`. How many times did you eat that week?"
      ]
    },
    {
      "cell_type": "code",
      "metadata": {
        "colab": {
          "base_uri": "https://localhost:8080/"
        },
        "id": "N0VCWsnaMphZ",
        "outputId": "8c43c42e-4edc-4747-ad5d-628b2389a48b"
      },
      "source": [
        "counts = [2,3,2,1,3,3,2,3,3,2,6,2]\n",
        "food_dict = dict(zip(food, counts))\n",
        "print(food_dict)\n",
        "print(sum(food_dict.values()))"
      ],
      "execution_count": 61,
      "outputs": [
        {
          "output_type": "stream",
          "text": [
            "{'Alfredo Pasta ': 2, 'Banana Pudding': 3, 'Bean Rice': 2, 'Caesar Salad': 1, 'Chicken Crispers': 3, 'Chicken Curry': 3, 'Choccy Chocolate Cake': 2, 'Chow Mein': 3, 'Classic American CheeseBurger': 3, 'Lobster Biscuits': 2, 'Ramray Wong pasta': 6, 'Sweetfire Chicken Breast': 2}\n",
            "32\n"
          ],
          "name": "stdout"
        }
      ]
    },
    {
      "cell_type": "markdown",
      "metadata": {
        "id": "Sg-yUXKlMpha"
      },
      "source": [
        "*I ate 32 times that week. I tend to eat a lot because I have a fast metabolism; some say it's a gift and I think it's a curse.*"
      ]
    },
    {
      "cell_type": "markdown",
      "metadata": {
        "id": "38FOG0CkMphb"
      },
      "source": [
        "#### 2.4 (1 pt) Which of your favorite food did you eat the most often?"
      ]
    },
    {
      "cell_type": "code",
      "metadata": {
        "colab": {
          "base_uri": "https://localhost:8080/",
          "height": 35
        },
        "id": "KDOXJLy0Mphb",
        "outputId": "1c66d0ff-6a3e-409d-abcf-63145fa454a5"
      },
      "source": [
        "import operator\n",
        "\n",
        "max(food_dict.items(), key=operator.itemgetter(1))[0]"
      ],
      "execution_count": 62,
      "outputs": [
        {
          "output_type": "execute_result",
          "data": {
            "application/vnd.google.colaboratory.intrinsic+json": {
              "type": "string"
            },
            "text/plain": [
              "'Ramray Wong pasta'"
            ]
          },
          "metadata": {
            "tags": []
          },
          "execution_count": 62
        }
      ]
    },
    {
      "cell_type": "markdown",
      "metadata": {
        "id": "3VkDTP_dMphc"
      },
      "source": [
        "*I ate the Ramray Wong pasta the most often.* "
      ]
    },
    {
      "cell_type": "markdown",
      "metadata": {
        "id": "Hg64iTa1Mphd"
      },
      "source": [
        "#### 2.5 (2 pts) Using a `for` loop, multiply the values in your dictionary by 4 so that you can estimate how many times you would eat your favorite food per month. Has this ever happened in real life?!"
      ]
    },
    {
      "cell_type": "code",
      "metadata": {
        "colab": {
          "base_uri": "https://localhost:8080/"
        },
        "id": "66MAUhPIMphe",
        "outputId": "5c378a6d-653f-4e5e-9427-bbde893d5d48"
      },
      "source": [
        "for key in food_dict:\n",
        "  food_dict[key]*=4\n",
        "print(food_dict)\n",
        "print(sum(food_dict.values()))"
      ],
      "execution_count": 63,
      "outputs": [
        {
          "output_type": "stream",
          "text": [
            "{'Alfredo Pasta ': 8, 'Banana Pudding': 12, 'Bean Rice': 8, 'Caesar Salad': 4, 'Chicken Crispers': 12, 'Chicken Curry': 12, 'Choccy Chocolate Cake': 8, 'Chow Mein': 12, 'Classic American CheeseBurger': 12, 'Lobster Biscuits': 8, 'Ramray Wong pasta': 24, 'Sweetfire Chicken Breast': 8}\n",
            "128\n"
          ],
          "name": "stdout"
        }
      ]
    },
    {
      "cell_type": "markdown",
      "metadata": {
        "id": "jBK-RndRMphe"
      },
      "source": [
        "This has happened in real life unforunately. I was saved due to my high metabolism, but I feel that a normal person would get a serious health condition and be as dead as a doornail before reaching the hospital :)."
      ]
    }
  ]
}